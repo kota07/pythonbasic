{
 "cells": [
  {
   "cell_type": "markdown",
   "id": "388a9ae1",
   "metadata": {},
   "source": [
    "1. To what does a relative path refer?"
   ]
  },
  {
   "cell_type": "code",
   "execution_count": null,
   "id": "cad93c4b",
   "metadata": {},
   "outputs": [],
   "source": [
    "Relative paths are relative to the current working directory"
   ]
  },
  {
   "cell_type": "markdown",
   "id": "88f0e0af",
   "metadata": {},
   "source": [
    "2. What does an absolute path start with your operating system?"
   ]
  },
  {
   "cell_type": "code",
   "execution_count": null,
   "id": "0b8b95f9",
   "metadata": {},
   "outputs": [],
   "source": [
    "Absolute paths start with the root folder, such as / or C:\\."
   ]
  },
  {
   "cell_type": "markdown",
   "id": "e4ddf61f",
   "metadata": {},
   "source": [
    "3. What do the functions os.getcwd() and os.chdir() do?"
   ]
  },
  {
   "cell_type": "code",
   "execution_count": null,
   "id": "5cdb9d3a",
   "metadata": {},
   "outputs": [],
   "source": [
    "Ans: The os.getcwd() function returns the current working directory. The os.chdir() function changes the current working \n",
    "directory"
   ]
  },
  {
   "cell_type": "markdown",
   "id": "2414f351",
   "metadata": {},
   "source": [
    "4. What are the . and .. folders?"
   ]
  },
  {
   "cell_type": "code",
   "execution_count": null,
   "id": "4a55112d",
   "metadata": {},
   "outputs": [],
   "source": [
    "The . folder is the current folder, and .. is the parent folder"
   ]
  },
  {
   "cell_type": "markdown",
   "id": "cf0fc43e",
   "metadata": {},
   "source": [
    "5. In C:\\bacon\\eggs\\spam.txt, which part is the dir name, and which part is the base name?"
   ]
  },
  {
   "cell_type": "code",
   "execution_count": null,
   "id": "fde0de79",
   "metadata": {},
   "outputs": [],
   "source": [
    " C:\\bacon\\eggs is the dir name, while spam.txt is the base name."
   ]
  },
  {
   "cell_type": "markdown",
   "id": "ba20f6d6",
   "metadata": {},
   "source": [
    "6. What are the three “mode” arguments that can be passed to the open() function?"
   ]
  },
  {
   "cell_type": "code",
   "execution_count": null,
   "id": "6eb95515",
   "metadata": {},
   "outputs": [],
   "source": [
    "The string 'r' for read mode, 'w' for write mode, and 'a' for append mode"
   ]
  },
  {
   "cell_type": "markdown",
   "id": "5d7bf6d5",
   "metadata": {},
   "source": [
    "7. What happens if an existing file is opened in write mode?"
   ]
  },
  {
   "cell_type": "code",
   "execution_count": null,
   "id": "a717e75b",
   "metadata": {},
   "outputs": [],
   "source": [
    "Ans: An existing file opened in write mode is erased and completely overwritten"
   ]
  },
  {
   "cell_type": "markdown",
   "id": "6b9e1a59",
   "metadata": {},
   "source": [
    "8. How do you tell the difference between read() and readlines()?"
   ]
  },
  {
   "cell_type": "code",
   "execution_count": null,
   "id": "7a5b5fdd",
   "metadata": {},
   "outputs": [],
   "source": [
    "Ans: The read() method returns the file’s entire contents as a single string value. The readlines() method returns a list of \n",
    "    strings, where each string is a line from the file’s contents."
   ]
  },
  {
   "cell_type": "markdown",
   "id": "8fd4fac8",
   "metadata": {},
   "source": [
    "9. What data structure does a shelf value resemble?"
   ]
  },
  {
   "cell_type": "code",
   "execution_count": null,
   "id": "4190bb6d",
   "metadata": {},
   "outputs": [],
   "source": [
    "Ans: A shelf value resembles a dictionary value; it has keys and values, along with keys() and values() methods that work \n",
    "    similarly to the dictionary methods of the same names"
   ]
  }
 ],
 "metadata": {
  "kernelspec": {
   "display_name": "Python 3 (ipykernel)",
   "language": "python",
   "name": "python3"
  },
  "language_info": {
   "codemirror_mode": {
    "name": "ipython",
    "version": 3
   },
   "file_extension": ".py",
   "mimetype": "text/x-python",
   "name": "python",
   "nbconvert_exporter": "python",
   "pygments_lexer": "ipython3",
   "version": "3.9.12"
  }
 },
 "nbformat": 4,
 "nbformat_minor": 5
}
