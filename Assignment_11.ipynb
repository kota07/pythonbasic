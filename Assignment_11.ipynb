{
 "cells": [
  {
   "cell_type": "markdown",
   "id": "86f52ae0",
   "metadata": {},
   "source": [
    "1. Create an assert statement that throws an AssertionError if the variable spam is a negative integer."
   ]
  },
  {
   "cell_type": "code",
   "execution_count": 1,
   "id": "5d890e8f",
   "metadata": {},
   "outputs": [
    {
     "ename": "AssertionError",
     "evalue": "The spam variable is negative integer.",
     "output_type": "error",
     "traceback": [
      "\u001b[1;31m---------------------------------------------------------------------------\u001b[0m",
      "\u001b[1;31mAssertionError\u001b[0m                            Traceback (most recent call last)",
      "Input \u001b[1;32mIn [1]\u001b[0m, in \u001b[0;36m<cell line: 2>\u001b[1;34m()\u001b[0m\n\u001b[0;32m      1\u001b[0m spam \u001b[38;5;241m=\u001b[39m \u001b[38;5;241m-\u001b[39m\u001b[38;5;241m1\u001b[39m\n\u001b[1;32m----> 2\u001b[0m \u001b[38;5;28;01massert\u001b[39;00m spam \u001b[38;5;241m>\u001b[39m\u001b[38;5;241m=\u001b[39m \u001b[38;5;241m0\u001b[39m,\u001b[38;5;124m'\u001b[39m\u001b[38;5;124mThe spam variable is negative integer.\u001b[39m\u001b[38;5;124m'\u001b[39m\n",
      "\u001b[1;31mAssertionError\u001b[0m: The spam variable is negative integer."
     ]
    }
   ],
   "source": [
    "spam = -1\n",
    "assert spam >= 0,'The spam variable is negative integer.'"
   ]
  },
  {
   "cell_type": "markdown",
   "id": "0ae0d69c",
   "metadata": {},
   "source": [
    "2. Write an assert statement that triggers an AssertionError if the variables eggs and bacon contain strings that are the same\n",
    "as each other, even if their cases are different (that is, 'hello' and 'hello' are considered the same, and 'goodbye' \n",
    "and 'GOODbye' are also considered the same."
   ]
  },
  {
   "cell_type": "code",
   "execution_count": 10,
   "id": "fc48d6a0",
   "metadata": {},
   "outputs": [
    {
     "ename": "AssertionError",
     "evalue": "The eggs and bacon variables are the same!",
     "output_type": "error",
     "traceback": [
      "\u001b[1;31m---------------------------------------------------------------------------\u001b[0m",
      "\u001b[1;31mAssertionError\u001b[0m                            Traceback (most recent call last)",
      "Input \u001b[1;32mIn [10]\u001b[0m, in \u001b[0;36m<cell line: 3>\u001b[1;34m()\u001b[0m\n\u001b[0;32m      1\u001b[0m eggs \u001b[38;5;241m=\u001b[39m \u001b[38;5;124m'\u001b[39m\u001b[38;5;124mHello\u001b[39m\u001b[38;5;124m'\u001b[39m\n\u001b[0;32m      2\u001b[0m bacon \u001b[38;5;241m=\u001b[39m \u001b[38;5;124m'\u001b[39m\u001b[38;5;124mHello\u001b[39m\u001b[38;5;124m'\u001b[39m\n\u001b[1;32m----> 3\u001b[0m \u001b[38;5;28;01massert\u001b[39;00m eggs\u001b[38;5;241m.\u001b[39mlower() \u001b[38;5;241m!=\u001b[39m bacon\u001b[38;5;241m.\u001b[39mlower(), \u001b[38;5;124m'\u001b[39m\u001b[38;5;124mThe eggs and bacon variables are the same!\u001b[39m\u001b[38;5;124m'\u001b[39m \n\u001b[0;32m      4\u001b[0m \u001b[38;5;28;01massert\u001b[39;00m eggs\u001b[38;5;241m.\u001b[39mupper() \u001b[38;5;241m!=\u001b[39m bacon\u001b[38;5;241m.\u001b[39mupper(),\u001b[38;5;124m'\u001b[39m\u001b[38;5;124mThe eggs and bacon variables are the same!\u001b[39m\u001b[38;5;124m'\u001b[39m\n",
      "\u001b[1;31mAssertionError\u001b[0m: The eggs and bacon variables are the same!"
     ]
    }
   ],
   "source": [
    "eggs = 'Hello'\n",
    "bacon = 'Hello'\n",
    "assert eggs.lower() != bacon.lower(), 'The eggs and bacon variables are the same!' \n",
    "assert eggs.upper() != bacon.upper(),'The eggs and bacon variables are the same!'"
   ]
  },
  {
   "cell_type": "markdown",
   "id": "bdf108c2",
   "metadata": {},
   "source": [
    "3. Create an assert statement that throws an AssertionError every time."
   ]
  },
  {
   "cell_type": "code",
   "execution_count": 1,
   "id": "5030b855",
   "metadata": {},
   "outputs": [
    {
     "ename": "AssertionError",
     "evalue": "This assertion always triggers.",
     "output_type": "error",
     "traceback": [
      "\u001b[1;31m---------------------------------------------------------------------------\u001b[0m",
      "\u001b[1;31mAssertionError\u001b[0m                            Traceback (most recent call last)",
      "Input \u001b[1;32mIn [1]\u001b[0m, in \u001b[0;36m<cell line: 1>\u001b[1;34m()\u001b[0m\n\u001b[1;32m----> 1\u001b[0m \u001b[38;5;28;01massert\u001b[39;00m \u001b[38;5;28;01mFalse\u001b[39;00m, \u001b[38;5;124m'\u001b[39m\u001b[38;5;124mThis assertion always triggers.\u001b[39m\u001b[38;5;124m'\u001b[39m\n",
      "\u001b[1;31mAssertionError\u001b[0m: This assertion always triggers."
     ]
    }
   ],
   "source": [
    "assert False, 'This assertion always triggers.'"
   ]
  },
  {
   "cell_type": "markdown",
   "id": "be8ab014",
   "metadata": {},
   "source": [
    "4. What are the two lines that must be present in your software in order to call logging.debug()?"
   ]
  },
  {
   "cell_type": "code",
   "execution_count": 2,
   "id": "dc46362a",
   "metadata": {},
   "outputs": [],
   "source": [
    "import logging\n",
    "logging = logging.basicConfig(level=logging.DEBUG, format=' %(asctime)s - %(levelname)s - %(message)s')"
   ]
  },
  {
   "cell_type": "markdown",
   "id": "cccca5b3",
   "metadata": {},
   "source": [
    "5. What are the two lines that your program must have in order to have logging.debug() send a logging message to a file named programLog.txt?"
   ]
  },
  {
   "cell_type": "code",
   "execution_count": 12,
   "id": "3514307b",
   "metadata": {},
   "outputs": [
    {
     "name": "stderr",
     "output_type": "stream",
     "text": [
      " 2022-08-01 08:56:03,387 - ERROR - this is a test message\n"
     ]
    }
   ],
   "source": [
    "import logging\n",
    "logging.basicConfig(filename=\"C:/Users/kteja/programLog.txt\",level=logging.error, format=' %(asctime)s -%(levelname)s - %(message)s')\n",
    "logging.error(\"this is a test message\")"
   ]
  },
  {
   "cell_type": "markdown",
   "id": "32c5e474",
   "metadata": {},
   "source": [
    "6. What are the five levels of logging?"
   ]
  },
  {
   "cell_type": "code",
   "execution_count": null,
   "id": "adff3fa1",
   "metadata": {},
   "outputs": [],
   "source": [
    "logging.debug() - variable's state and small details\n",
    "logging.info() - general events, confirm a program is working\n",
    "logging.warning() - potiental problem to work on in the future\n",
    "logging.error() - record an error that caused program to fail to do something\n",
    "logging.critical() - fatal error that has caused"
   ]
  },
  {
   "cell_type": "markdown",
   "id": "7ef2fa52",
   "metadata": {},
   "source": [
    "7. What line of code would you add to your software to disable all logging messages?"
   ]
  },
  {
   "cell_type": "code",
   "execution_count": null,
   "id": "5616b569",
   "metadata": {},
   "outputs": [],
   "source": [
    "logging.disable(logging.Debug)"
   ]
  },
  {
   "cell_type": "markdown",
   "id": "22739ba7",
   "metadata": {},
   "source": [
    "8. Why is using logging messages better than using print() to display the same message?"
   ]
  },
  {
   "cell_type": "code",
   "execution_count": null,
   "id": "a319eff7",
   "metadata": {},
   "outputs": [],
   "source": [
    "Because with print, when your program is ready for production, you still\n",
    "have to \"remove\" or comment it out. Verses logging message, you can toggle\n",
    "the setting on/off or write to a file (send to a server). It is more flexible\n",
    "especially with logging level 1-5."
   ]
  },
  {
   "cell_type": "markdown",
   "id": "5cc85aac",
   "metadata": {},
   "source": [
    "9. What are the differences between the Step Over, Step In, and Step Out buttons in the debugger?"
   ]
  },
  {
   "cell_type": "code",
   "execution_count": null,
   "id": "b3e6fc6f",
   "metadata": {},
   "outputs": [],
   "source": [
    "Step - one line execution at a time\n",
    "Over - excecute the next line of code, but if it is a program, it will\n",
    "       complete the entire function call.\n",
    "out  - execute the lines of code unti it returns from the current function.\n",
    "       (out is useful when you stepped into a function call)."
   ]
  },
  {
   "cell_type": "markdown",
   "id": "5d407984",
   "metadata": {},
   "source": [
    "10. After you click Continue, when will the debugger stop ?"
   ]
  },
  {
   "cell_type": "code",
   "execution_count": null,
   "id": "1019a59a",
   "metadata": {},
   "outputs": [],
   "source": [
    "Go runs until the program terminate or reaches a breakpoint set."
   ]
  },
  {
   "cell_type": "markdown",
   "id": "d24c0d0d",
   "metadata": {},
   "source": [
    "11. What is the concept of a breakpoint?"
   ]
  },
  {
   "cell_type": "code",
   "execution_count": null,
   "id": "5a029b2a",
   "metadata": {},
   "outputs": [],
   "source": [
    "When you have Debugger enabled and you can right click on any lines\n",
    "to create a breakpoint. During Go - it will stop there and await your next\n",
    "command."
   ]
  }
 ],
 "metadata": {
  "kernelspec": {
   "display_name": "Python 3 (ipykernel)",
   "language": "python",
   "name": "python3"
  },
  "language_info": {
   "codemirror_mode": {
    "name": "ipython",
    "version": 3
   },
   "file_extension": ".py",
   "mimetype": "text/x-python",
   "name": "python",
   "nbconvert_exporter": "python",
   "pygments_lexer": "ipython3",
   "version": "3.9.12"
  }
 },
 "nbformat": 4,
 "nbformat_minor": 5
}
