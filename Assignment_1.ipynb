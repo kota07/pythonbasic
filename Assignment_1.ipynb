{
 "cells": [
  {
   "cell_type": "markdown",
   "id": "6bb55077",
   "metadata": {},
   "source": [
    "1\\. In the below elements which of them are values or an expression?\n",
    "eg:- values can be integer or string and expressions will be\n",
    "mathematical operators.\n",
    "\n",
    "\\*\n",
    "\n",
    "'hello'\n",
    "\n",
    "-87.8\n",
    "\n",
    "\\-\n",
    "\n",
    "/\n",
    "\n",
    "-   \n",
    "\n",
    "6\n",
    "\n",
    "2\\. What is the difference between string and variable?\n",
    "\n",
    "3\\. Describe three different data types.\n",
    "\n",
    "4\\. What is an expression made up of? What do all expressions do?\n",
    "\n",
    "5\\. This assignment statements, like spam = 10. What is the difference\n",
    "between an expression and a statement?\n",
    "\n",
    "6\\. After running the following code, what does the variable bacon\n",
    "contain?\n",
    "\n",
    "bacon = 22\n",
    "\n",
    "bacon + 1\n",
    "\n",
    "7\\. What should the values of the following two terms be?\n",
    "\n",
    "'spam' + 'spamspam'\n",
    "\n",
    "'spam' \\* 3\n",
    "\n",
    "8\\. Why is eggs a valid variable name while 100 is invalid?\n",
    "\n",
    "9\\. What three functions can be used to get the integer, floating-point\n",
    "number, or string version of a value?\n",
    "\n",
    "10\\. Why does this expression cause an error? How can you fix it?\n",
    "\n",
    "'I have eaten ' + 99 + ' burritos.'"
   ]
  },
  {
   "cell_type": "markdown",
   "id": "8028e880",
   "metadata": {},
   "source": [
    "1.In the below elements which of them are values or an expression? eg:- values can be integer or string and expressions will be mathematical operators.\n",
    "Ans:\n",
    "\n",
    "* ----expression\n",
    "\n",
    "'hello'---value\n",
    "\n",
    "-87.8 ---value\n",
    "\n",
    "- ------expressiom\n",
    "\n",
    "/ ---expresssion\n",
    "\n",
    "+ ----expresssiom\n",
    "\n",
    "6--- value\n"
   ]
  },
  {
   "cell_type": "raw",
   "id": "27edffc8",
   "metadata": {},
   "source": [
    "2.What is the difference between string and variable?\n",
    "Ans:String: String can be written in quotes such: \"apple\", 'apple'\n",
    "Variable: It is the thing in which we can store data just like a container."
   ]
  },
  {
   "cell_type": "markdown",
   "id": "f0f9ea5c",
   "metadata": {},
   "source": [
    "3.Describe three different data types.\n",
    "Ans:List: the list is used for storing multiple data items in a single variable\n",
    "Integer : integer can store only numerical values.\n",
    "Float: float can store only floating values such as 233.33, 22.2, etc."
   ]
  },
  {
   "cell_type": "markdown",
   "id": "ac533a34",
   "metadata": {},
   "source": [
    "4.What is an expression made up of? What do all expressions do?\n",
    "Ans:Expression is made up of values, containers, and mathematical operators (operands) \n",
    "e.g :\n",
    "\n",
    "a = 2 + 3     and expressions are used to evaluate the values or represent the result on the screen."
   ]
  },
  {
   "cell_type": "markdown",
   "id": "80de5659",
   "metadata": {},
   "source": [
    "5.This assignment statements, like spam = 10. What is the difference between an expression and a statement?\n",
    "\n",
    "ANs:Expression is made up of values, containers, and mathematical operators (operands) and the statement is just like a command that a python interpreter executes like print."
   ]
  },
  {
   "cell_type": "markdown",
   "id": "6d92a04f",
   "metadata": {},
   "source": [
    "6.After running the following code, what does the variable bacon contain?\n",
    "\n",
    "bacon = 22\n",
    "\n",
    "bacon + 1"
   ]
  },
  {
   "cell_type": "code",
   "execution_count": 4,
   "id": "fa318453",
   "metadata": {},
   "outputs": [
    {
     "data": {
      "text/plain": [
       "23"
      ]
     },
     "execution_count": 4,
     "metadata": {},
     "output_type": "execute_result"
    }
   ],
   "source": [
    "### 6 ANS##\n",
    "bacon = 22\n",
    "bacon + 1"
   ]
  },
  {
   "cell_type": "code",
   "execution_count": 3,
   "id": "4eb4acd6",
   "metadata": {},
   "outputs": [
    {
     "data": {
      "text/plain": [
       "'spamspamspam'"
      ]
     },
     "execution_count": 3,
     "metadata": {},
     "output_type": "execute_result"
    }
   ],
   "source": [
    "### 7.What should the values of the following two terms be?\n",
    "\n",
    "'spam' + 'spamspam'\n",
    "\n",
    "\n",
    "'spam' * 3\n",
    "\n",
    "Same ans for both of them"
   ]
  },
  {
   "cell_type": "markdown",
   "id": "fddb870d",
   "metadata": {},
   "source": [
    "8.Why is eggs a valid variable name while 100 is invalid?\n",
    "Ans:because we can't start giving variable an integer name. if we, we should begin with, a string-like alphabet name then integer. e100 or eggs100 is valid"
   ]
  },
  {
   "cell_type": "markdown",
   "id": "c63f795a",
   "metadata": {},
   "source": [
    "9.What three functions can be used to get the integer, floating-point number, or string version of a value?\n",
    "Ans:\n",
    "str(), int(), float()"
   ]
  },
  {
   "cell_type": "code",
   "execution_count": 5,
   "id": "ae826b98",
   "metadata": {},
   "outputs": [
    {
     "data": {
      "text/plain": [
       "'I have eaten 99 burritos.'"
      ]
     },
     "execution_count": 5,
     "metadata": {},
     "output_type": "execute_result"
    }
   ],
   "source": [
    "###10. Why does this expression cause an error? How can you fix it?\n",
    "\n",
    "'I have eaten ' + str(99) + ' burritos.'"
   ]
  },
  {
   "cell_type": "code",
   "execution_count": null,
   "id": "dd77ec79",
   "metadata": {},
   "outputs": [],
   "source": []
  }
 ],
 "metadata": {
  "kernelspec": {
   "display_name": "Python 3",
   "language": "python",
   "name": "python3"
  },
  "language_info": {
   "codemirror_mode": {
    "name": "ipython",
    "version": 3
   },
   "file_extension": ".py",
   "mimetype": "text/x-python",
   "name": "python",
   "nbconvert_exporter": "python",
   "pygments_lexer": "ipython3",
   "version": "3.8.8"
  }
 },
 "nbformat": 4,
 "nbformat_minor": 5
}
