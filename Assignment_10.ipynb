{
 "cells": [
  {
   "cell_type": "markdown",
   "id": "3cfc08da",
   "metadata": {},
   "source": [
    "1. How do you distinguish between shutil.copy() and shutil.copytree()?"
   ]
  },
  {
   "cell_type": "code",
   "execution_count": null,
   "id": "80e2518f",
   "metadata": {},
   "outputs": [],
   "source": [
    "The shutil.copy() function will copy a single file, while shutil.copytree() will copy an entire folder, along with all its \n",
    "contents."
   ]
  },
  {
   "cell_type": "markdown",
   "id": "90ea9486",
   "metadata": {},
   "source": [
    "2. What function is used to rename files??"
   ]
  },
  {
   "cell_type": "code",
   "execution_count": null,
   "id": "82319983",
   "metadata": {},
   "outputs": [],
   "source": [
    "The shutil.move() function is used for renaming files, as well as moving them"
   ]
  },
  {
   "cell_type": "markdown",
   "id": "20e2a900",
   "metadata": {},
   "source": [
    "3. What is the difference between the delete functions in the send2trash and shutil modules?"
   ]
  },
  {
   "cell_type": "code",
   "execution_count": null,
   "id": "2aa40797",
   "metadata": {},
   "outputs": [],
   "source": [
    "Ans: The send2trash functions will move a file or folder to the recycle bin, while shutil functions will permanently delete \n",
    "files and folders."
   ]
  },
  {
   "cell_type": "markdown",
   "id": "30726313",
   "metadata": {},
   "source": [
    "4.ZipFile objects have a close() method just like File objects’ close() method. What ZipFile method is equivalent to File \n",
    "objects’ open() method?"
   ]
  },
  {
   "cell_type": "code",
   "execution_count": null,
   "id": "1953fdb3",
   "metadata": {},
   "outputs": [],
   "source": [
    "Ans: The zipfile.ZipFile() function is equivalent to the open() function; the first argument is the filename, and the second \n",
    "    argument is the mode to open the ZIP file in (read, write, or append)."
   ]
  },
  {
   "cell_type": "markdown",
   "id": "0f2aa974",
   "metadata": {},
   "source": [
    "5. Create a programme that searches a folder tree for files with a certain file extension (such as .pdf or .jpg)\n",
    "Copy these files from whatever location they are in to a new folder."
   ]
  },
  {
   "cell_type": "code",
   "execution_count": 15,
   "id": "7317d8ed",
   "metadata": {},
   "outputs": [
    {
     "name": "stdout",
     "output_type": "stream",
     "text": [
      "Enter the absolute path of the source folder: C:\\Users\\kteja\\Desktop\\testc.jpg\n",
      "Enter the type of file to copy (such as .pdf or .jpg): .jpg\n",
      "Enter the absolute path of the destination folder: C:\\Users\\kteja\\Desktop\n"
     ]
    }
   ],
   "source": [
    "import os, shutil\n",
    "\n",
    "sourcePath = input(\"Enter the absolute path of the source folder: \")\n",
    "fileExtType = input(\"Enter the type of file to copy (such as .pdf or .jpg): \").lower()\n",
    "destPath = input(\"Enter the absolute path of the destination folder: \")\n",
    "\n",
    "for foldername, subfolders, filenames in os.walk(sourcePath):\n",
    "    for filename in filenames:\n",
    "        if filename.lower().endswith(fileExtType):\n",
    "            print(foldername + \"\\\\\" + filename)\n",
    "            copySourcePath = os.path.join(foldername, filename)\n",
    "            print(copySourcePath)\n",
    "            shutil.copy(copySourcePath, destPath)\n",
    "    else:\n",
    "        continue"
   ]
  },
  {
   "cell_type": "code",
   "execution_count": null,
   "id": "fb07ecb8",
   "metadata": {},
   "outputs": [],
   "source": []
  }
 ],
 "metadata": {
  "kernelspec": {
   "display_name": "Python 3 (ipykernel)",
   "language": "python",
   "name": "python3"
  },
  "language_info": {
   "codemirror_mode": {
    "name": "ipython",
    "version": 3
   },
   "file_extension": ".py",
   "mimetype": "text/x-python",
   "name": "python",
   "nbconvert_exporter": "python",
   "pygments_lexer": "ipython3",
   "version": "3.9.12"
  }
 },
 "nbformat": 4,
 "nbformat_minor": 5
}
